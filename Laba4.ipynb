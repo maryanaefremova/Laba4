{
  "nbformat": 4,
  "nbformat_minor": 0,
  "metadata": {
    "colab": {
      "name": "Laba4.ipynb",
      "provenance": [],
      "collapsed_sections": []
    },
    "kernelspec": {
      "display_name": "Python 3",
      "name": "python3"
    }
  },
  "cells": [
    {
      "cell_type": "code",
      "metadata": {
        "id": "VV6xxrQRFIwM"
      },
      "source": [
        "from __future__ import print_function\r\n",
        "import keras\r\n",
        "from keras.datasets import cifar10\r\n",
        "from keras.preprocessing.image import ImageDataGenerator\r\n",
        "from keras.models import Sequential\r\n",
        "from keras.layers import Dense, Dropout, Activation, Flatten\r\n",
        "from keras.layers import Conv2D, MaxPooling2D\r\n",
        "import os\r\n",
        "\r\n",
        "import numpy as np\r\n",
        "\r\n",
        "import seaborn as sns\r\n",
        "import matplotlib\r\n",
        "import matplotlib.pyplot as plt\r\n",
        "\r\n",
        "from sklearn.metrics import confusion_matrix, classification_report\r\n",
        "import itertools"
      ],
      "execution_count": 1,
      "outputs": []
    },
    {
      "cell_type": "markdown",
      "metadata": {
        "id": "mk5wZ_uiFZvc"
      },
      "source": [
        "Набор данных CIFAR10 содержит 60 000 цветных изображений в 10 классах, по 6 000 изображений в каждом классе. Набор данных разделен на 50 000 обучающих изображений и 10 000 тестовых изображений. Классы являются взаимоисключающими, и между ними нет перекрытия."
      ]
    },
    {
      "cell_type": "markdown",
      "metadata": {
        "id": "YHixOeH_K9Xw"
      },
      "source": [
        "Установим гиперпараметры моделей и другие глобальные параметры."
      ]
    },
    {
      "cell_type": "code",
      "metadata": {
        "id": "abDH3C2ZLBuA"
      },
      "source": [
        "batch_size = 32 \r\n",
        "num_classes = 10 \r\n",
        "epochs = 20\r\n",
        "data_augmentation = False"
      ],
      "execution_count": 2,
      "outputs": []
    },
    {
      "cell_type": "markdown",
      "metadata": {
        "id": "iiJOkLWWLNOR"
      },
      "source": [
        "Загружаем данные и разделяем их между обучающим и тестовым наборами."
      ]
    },
    {
      "cell_type": "code",
      "metadata": {
        "colab": {
          "base_uri": "https://localhost:8080/"
        },
        "id": "pJoCzYvJLRKY",
        "outputId": "1970afee-ca4b-4474-9f2d-3c854bec176d"
      },
      "source": [
        "(x_train, y_train), (x_test, y_test) = cifar10.load_data()\r\n",
        "print('x_train shape:', x_train.shape)\r\n",
        "print('y_train shape:', y_train.shape)\r\n",
        "print(x_train.shape[0], 'train samples')\r\n",
        "print(x_test.shape[0], 'test samples')"
      ],
      "execution_count": 3,
      "outputs": [
        {
          "output_type": "stream",
          "text": [
            "Downloading data from https://www.cs.toronto.edu/~kriz/cifar-10-python.tar.gz\n",
            "170500096/170498071 [==============================] - 4s 0us/step\n",
            "x_train shape: (50000, 32, 32, 3)\n",
            "y_train shape: (50000, 1)\n",
            "50000 train samples\n",
            "10000 test samples\n"
          ],
          "name": "stdout"
        }
      ]
    },
    {
      "cell_type": "code",
      "metadata": {
        "colab": {
          "base_uri": "https://localhost:8080/",
          "height": 441
        },
        "id": "oCA7SMKaLwgL",
        "outputId": "291112ac-0466-46ea-970c-54ddbfb695b4"
      },
      "source": [
        "fig, axs = plt.subplots(1,2,figsize=(15,5)) \r\n",
        "# Count plot for training set\r\n",
        "sns.countplot(y_train.ravel(), ax=axs[0])\r\n",
        "axs[0].set_title('Distribution of training data')\r\n",
        "axs[0].set_xlabel('Classes')\r\n",
        "# Count plot for testing set\r\n",
        "sns.countplot(y_test.ravel(), ax=axs[1])\r\n",
        "axs[1].set_title('Distribution of Testing data')\r\n",
        "axs[1].set_xlabel('Classes')\r\n",
        "plt.show()"
      ],
      "execution_count": 4,
      "outputs": [
        {
          "output_type": "stream",
          "text": [
            "/usr/local/lib/python3.6/dist-packages/seaborn/_decorators.py:43: FutureWarning: Pass the following variable as a keyword arg: x. From version 0.12, the only valid positional argument will be `data`, and passing other arguments without an explicit keyword will result in an error or misinterpretation.\n",
            "  FutureWarning\n",
            "/usr/local/lib/python3.6/dist-packages/seaborn/_decorators.py:43: FutureWarning: Pass the following variable as a keyword arg: x. From version 0.12, the only valid positional argument will be `data`, and passing other arguments without an explicit keyword will result in an error or misinterpretation.\n",
            "  FutureWarning\n"
          ],
          "name": "stderr"
        },
        {
          "output_type": "display_data",
          "data": {
            "image/png": "[encoded data removed]",
            "text/plain": [
              "<Figure size 1080x360 with 2 Axes>"
            ]
          },
          "metadata": {
            "tags": [],
            "needs_background": "light"
          }
        }
      ]
    },
    {
      "cell_type": "markdown",
      "metadata": {
        "id": "WAeJ5AsLLxT1"
      },
      "source": [
        "Каждый класс содержит ровно 6000 примеров (5000 для обучения и 1000 для тестирования).\r\n",
        "\r\n",
        "Приведенный выше график очень важен для обучения, например, если бы у нас было всего 1000 образцов метки 1, что будет проблемой, модель столкнется с трудностями при обнаружении метки 1 с «меньшей точностью», так что не все будет хорошо. . Важно знать распределение набора данных по разным классам, потому что от этого зависит качество нашей модели.\r\n",
        "\r\n",
        "Теперь займемся предварительной обработкой.\r\n",
        "\r\n",
        "Выходная переменная имеет 10 возможных значений. Это проблема мультиклассовой классификации. Нужно закодировать эти метки в один горячий вектор"
      ]
    },
    {
      "cell_type": "markdown",
      "metadata": {
        "id": "VHvosklTMB81"
      },
      "source": [
        "Нормализуем данные"
      ]
    },
    {
      "cell_type": "code",
      "metadata": {
        "id": "Hpb2H-0WME5D"
      },
      "source": [
        "x_train = x_train.astype('float32')\r\n",
        "x_test = x_test.astype('float32')\r\n",
        "x_train /= 255\r\n",
        "x_test /= 255\r\n",
        "\r\n",
        "y_train = keras.utils.to_categorical(y_train, num_classes)\r\n",
        "y_test = keras.utils.to_categorical(y_test, num_classes)"
      ],
      "execution_count": 5,
      "outputs": []
    },
    {
      "cell_type": "markdown",
      "metadata": {
        "id": "qkDrZScKMU-d"
      },
      "source": [
        "На первом этапе сеть изучит 32 сверточных фильтра, каждый из которых имеет размер 3 x 3. Выходной размер такой же, как и у входной формы, поэтому он будет 32 x 32, и активация повторяется, что является простым способом введения нелинейности; за ними следуют еще 32 сверточных фильтра, каждый из которых имеет размер 3 x 3 и активацию также является повторным. После этого у нас есть операция максимального пула с размером пула 2 x 2 и выпадением при 25%.\r\n",
        "На следующем этапе глубокого конвейера сеть изучит 64 сверточных фильтра, каждый из которых имеет размер 3 x 3. Выходной размер такой же, как у входной формы, и активация повторяется; за ними следуют еще 64 сверточных фильтра, каждый из которых имеет размер 3 x 3 и активацию также является повторным. После этого у нас есть операция максимального пула с размером пула 2 x 2 и выпадением при 25%.\r\n",
        "И заключительный этап в глубоком конвейере - это плотная сеть с 512 устройствами и активацией relu, за которой следует выпадение на 50% и слой softmax с 10 классами на выходе, по одному для каждой категории."
      ]
    },
    {
      "cell_type": "code",
      "metadata": {
        "colab": {
          "base_uri": "https://localhost:8080/"
        },
        "id": "iHmAWLi5NiP8",
        "outputId": "c098d90c-9d58-427a-9ada-244b05ec8f53"
      },
      "source": [
        "#define the convnet\r\n",
        "model = Sequential()\r\n",
        "# CONV => RELU => CONV => RELU => POOL => DROPOUT\r\n",
        "model.add(Conv2D(32, (3, 3), padding='same',input_shape=x_train.shape[1:]))\r\n",
        "model.add(Activation('relu'))\r\n",
        "model.add(Conv2D(32, (3, 3)))\r\n",
        "model.add(Activation('relu'))\r\n",
        "model.add(MaxPooling2D(pool_size=(2, 2)))\r\n",
        "model.add(Dropout(0.25))\r\n",
        "\r\n",
        "# CONV => RELU => CONV => RELU => POOL => DROPOUT\r\n",
        "model.add(Conv2D(64, (3, 3), padding='same'))\r\n",
        "model.add(Activation('relu'))\r\n",
        "model.add(Conv2D(64, (3, 3)))\r\n",
        "model.add(Activation('relu'))\r\n",
        "model.add(MaxPooling2D(pool_size=(2, 2)))\r\n",
        "model.add(Dropout(0.25))\r\n",
        "\r\n",
        "# FLATTERN => DENSE => RELU => DROPOUT\r\n",
        "model.add(Flatten())\r\n",
        "model.add(Dense(512))\r\n",
        "model.add(Activation('relu'))\r\n",
        "model.add(Dropout(0.5))\r\n",
        "# a softmax classifier\r\n",
        "model.add(Dense(num_classes))\r\n",
        "model.add(Activation('softmax'))\r\n",
        "\r\n",
        "model.summary()"
      ],
      "execution_count": 6,
      "outputs": [
        {
          "output_type": "stream",
          "text": [
            "Model: \"sequential\"\n",
            "_________________________________________________________________\n",
            "Layer (type)                 Output Shape              Param #   \n",
            "=================================================================\n",
            "conv2d (Conv2D)              (None, 32, 32, 32)        896       \n",
            "_________________________________________________________________\n",
            "activation (Activation)      (None, 32, 32, 32)        0         \n",
            "_________________________________________________________________\n",
            "conv2d_1 (Conv2D)            (None, 30, 30, 32)        9248      \n",
            "_________________________________________________________________\n",
            "activation_1 (Activation)    (None, 30, 30, 32)        0         \n",
            "_________________________________________________________________\n",
            "max_pooling2d (MaxPooling2D) (None, 15, 15, 32)        0         \n",
            "_________________________________________________________________\n",
            "dropout (Dropout)            (None, 15, 15, 32)        0         \n",
            "_________________________________________________________________\n",
            "conv2d_2 (Conv2D)            (None, 15, 15, 64)        18496     \n",
            "_________________________________________________________________\n",
            "activation_2 (Activation)    (None, 15, 15, 64)        0         \n",
            "_________________________________________________________________\n",
            "conv2d_3 (Conv2D)            (None, 13, 13, 64)        36928     \n",
            "_________________________________________________________________\n",
            "activation_3 (Activation)    (None, 13, 13, 64)        0         \n",
            "_________________________________________________________________\n",
            "max_pooling2d_1 (MaxPooling2 (None, 6, 6, 64)          0         \n",
            "_________________________________________________________________\n",
            "dropout_1 (Dropout)          (None, 6, 6, 64)          0         \n",
            "_________________________________________________________________\n",
            "flatten (Flatten)            (None, 2304)              0         \n",
            "_________________________________________________________________\n",
            "dense (Dense)                (None, 512)               1180160   \n",
            "_________________________________________________________________\n",
            "activation_4 (Activation)    (None, 512)               0         \n",
            "_________________________________________________________________\n",
            "dropout_2 (Dropout)          (None, 512)               0         \n",
            "_________________________________________________________________\n",
            "dense_1 (Dense)              (None, 10)                5130      \n",
            "_________________________________________________________________\n",
            "activation_5 (Activation)    (None, 10)                0         \n",
            "=================================================================\n",
            "Total params: 1,250,858\n",
            "Trainable params: 1,250,858\n",
            "Non-trainable params: 0\n",
            "_________________________________________________________________\n"
          ],
          "name": "stdout"
        }
      ]
    },
    {
      "cell_type": "markdown",
      "metadata": {
        "id": "k2WK7QirNnqh"
      },
      "source": [
        "Обучение модели. Перед тем, как подготовить сеть к обучению, нужно обязательно добавить:\r\n",
        "Функцию потерь: для измерения качества сети\r\n",
        "Оптимизатор: для обновления сети, когда она видит больше данных, и уменьшения потерь\r\n",
        "Метрики: для мониторинга производительности сети"
      ]
    },
    {
      "cell_type": "code",
      "metadata": {
        "id": "4boMiV0ZOeKQ"
      },
      "source": [
        "\r\n",
        "opt = keras.optimizers.RMSprop(learning_rate=0.0001, decay=1e-6)\r\n",
        "\r\n",
        "model.compile(loss='categorical_crossentropy',\r\n",
        "              optimizer=opt,\r\n",
        "              metrics=['accuracy'])"
      ],
      "execution_count": 7,
      "outputs": []
    },
    {
      "cell_type": "code",
      "metadata": {
        "colab": {
          "base_uri": "https://localhost:8080/"
        },
        "id": "-yfyaMPJOjO_",
        "outputId": "c8b14eb3-a145-4bf2-c726-140128c2a3cd"
      },
      "source": [
        "history = None  \r\n",
        "if not data_augmentation:\r\n",
        "    print('Not using data augmentation.')\r\n",
        "    history = model.fit(x_train, y_train,\r\n",
        "              batch_size=batch_size,\r\n",
        "              epochs=epochs,\r\n",
        "              validation_data=(x_test, y_test),\r\n",
        "              shuffle=True)\r\n",
        "else:\r\n",
        "    print('Using real-time data augmentation.')\r\n",
        "    datagen = ImageDataGenerator(\r\n",
        "        featurewise_center=False,\r\n",
        "        samplewise_center=False,\r\n",
        "        featurewise_std_normalization=False,\r\n",
        "        samplewise_std_normalization=False,\r\n",
        "        zca_whitening=False,\r\n",
        "        zca_epsilon=1e-06, \r\n",
        "        rotation_range=0,  \r\n",
        "        width_shift_range=0.1,\r\n",
        "        height_shift_range=0.1,\r\n",
        "        shear_range=0., \r\n",
        "        zoom_range=0.,  \r\n",
        "        channel_shift_range=0., \r\n",
        "        fill_mode='nearest',\r\n",
        "        cval=0., \r\n",
        "        horizontal_flip=True,  \r\n",
        "        vertical_flip=False,  \r\n",
        "        rescale=None,\r\n",
        "        preprocessing_function=None,\r\n",
        "        data_format=None,\r\n",
        "        validation_split=0.0)\r\n",
        "\r\n",
        "    datagen.fit(x_train)\r\n",
        "\r\n",
        "    history = model.fit_generator(datagen.flow(x_train, y_train,\r\n",
        "                                    batch_size=batch_size),\r\n",
        "                                    epochs=epochs,\r\n",
        "                                    validation_data=(x_test, y_test),\r\n",
        "                                    workers=4)"
      ],
      "execution_count": 8,
      "outputs": [
        {
          "output_type": "stream",
          "text": [
            "Not using data augmentation.\n",
            "Epoch 1/20\n",
            "1563/1563 [==============================] - 245s 156ms/step - loss: 2.0310 - accuracy: 0.2445 - val_loss: 1.5369 - val_accuracy: 0.4497\n",
            "Epoch 2/20\n",
            "1563/1563 [==============================] - 248s 159ms/step - loss: 1.5401 - accuracy: 0.4393 - val_loss: 1.4751 - val_accuracy: 0.4766\n",
            "Epoch 3/20\n",
            "1563/1563 [==============================] - 244s 156ms/step - loss: 1.3897 - accuracy: 0.4962 - val_loss: 1.3181 - val_accuracy: 0.5337\n",
            "Epoch 4/20\n",
            "1563/1563 [==============================] - 245s 157ms/step - loss: 1.2842 - accuracy: 0.5441 - val_loss: 1.1621 - val_accuracy: 0.5897\n",
            "Epoch 5/20\n",
            "1563/1563 [==============================] - 245s 157ms/step - loss: 1.2034 - accuracy: 0.5746 - val_loss: 1.1355 - val_accuracy: 0.6063\n",
            "Epoch 6/20\n",
            "1563/1563 [==============================] - 243s 155ms/step - loss: 1.1361 - accuracy: 0.5995 - val_loss: 1.0530 - val_accuracy: 0.6352\n",
            "Epoch 7/20\n",
            "1563/1563 [==============================] - 244s 156ms/step - loss: 1.0673 - accuracy: 0.6259 - val_loss: 0.9635 - val_accuracy: 0.6634\n",
            "Epoch 8/20\n",
            "1563/1563 [==============================] - 244s 156ms/step - loss: 1.0182 - accuracy: 0.6451 - val_loss: 0.9508 - val_accuracy: 0.6674\n",
            "Epoch 9/20\n",
            "1563/1563 [==============================] - 247s 158ms/step - loss: 0.9749 - accuracy: 0.6594 - val_loss: 0.9264 - val_accuracy: 0.6819\n",
            "Epoch 10/20\n",
            "1563/1563 [==============================] - 245s 157ms/step - loss: 0.9367 - accuracy: 0.6726 - val_loss: 0.8859 - val_accuracy: 0.6947\n",
            "Epoch 11/20\n",
            "1563/1563 [==============================] - 250s 160ms/step - loss: 0.9089 - accuracy: 0.6867 - val_loss: 0.9171 - val_accuracy: 0.6884\n",
            "Epoch 12/20\n",
            "1563/1563 [==============================] - 253s 162ms/step - loss: 0.8768 - accuracy: 0.6912 - val_loss: 0.8193 - val_accuracy: 0.7169\n",
            "Epoch 13/20\n",
            "1563/1563 [==============================] - 248s 158ms/step - loss: 0.8442 - accuracy: 0.7073 - val_loss: 0.8825 - val_accuracy: 0.6978\n",
            "Epoch 14/20\n",
            "1563/1563 [==============================] - 248s 159ms/step - loss: 0.8329 - accuracy: 0.7083 - val_loss: 0.8441 - val_accuracy: 0.7092\n",
            "Epoch 15/20\n",
            "1563/1563 [==============================] - 247s 158ms/step - loss: 0.8115 - accuracy: 0.7169 - val_loss: 0.8012 - val_accuracy: 0.7220\n",
            "Epoch 16/20\n",
            "1563/1563 [==============================] - 249s 159ms/step - loss: 0.8000 - accuracy: 0.7223 - val_loss: 0.7734 - val_accuracy: 0.7291\n",
            "Epoch 17/20\n",
            "1563/1563 [==============================] - 251s 160ms/step - loss: 0.7853 - accuracy: 0.7288 - val_loss: 0.7730 - val_accuracy: 0.7328\n",
            "Epoch 18/20\n",
            "1563/1563 [==============================] - 247s 158ms/step - loss: 0.7705 - accuracy: 0.7329 - val_loss: 0.7420 - val_accuracy: 0.7440\n",
            "Epoch 19/20\n",
            "1563/1563 [==============================] - 251s 160ms/step - loss: 0.7632 - accuracy: 0.7362 - val_loss: 0.7571 - val_accuracy: 0.7421\n",
            "Epoch 20/20\n",
            "1563/1563 [==============================] - 248s 158ms/step - loss: 0.7506 - accuracy: 0.7386 - val_loss: 0.7239 - val_accuracy: 0.7512\n"
          ],
          "name": "stdout"
        }
      ]
    },
    {
      "cell_type": "markdown",
      "metadata": {
        "id": "pjTj3vE1QegL"
      },
      "source": [
        "Посмотрим на процесс обучения и проверки с помощью визуализации"
      ]
    },
    {
      "cell_type": "code",
      "metadata": {
        "colab": {
          "base_uri": "https://localhost:8080/",
          "height": 367
        },
        "id": "VezLcfOoQiu9",
        "outputId": "8674a00d-3660-4518-9a82-2388067df642"
      },
      "source": [
        "def plotmodelhistory(history): \r\n",
        "    fig, axs = plt.subplots(1,2,figsize=(15,5)) \r\n",
        "    # summarize history for accuracy\r\n",
        "    axs[0].plot(history.history['accuracy']) \r\n",
        "    axs[0].plot(history.history['val_accuracy']) \r\n",
        "    axs[0].set_title('Model Accuracy')\r\n",
        "    axs[0].set_ylabel('Accuracy') \r\n",
        "    axs[0].set_xlabel('Epoch')\r\n",
        "    axs[0].legend(['train', 'validate'], loc='upper left')\r\n",
        "    # summarize history for loss\r\n",
        "    axs[1].plot(history.history['loss']) \r\n",
        "    axs[1].plot(history.history['val_loss']) \r\n",
        "    axs[1].set_title('Model Loss')\r\n",
        "    axs[1].set_ylabel('Loss') \r\n",
        "    axs[1].set_xlabel('Epoch')\r\n",
        "    axs[1].legend(['train', 'validate'], loc='upper left')\r\n",
        "    plt.show()\r\n",
        "\r\n",
        "\r\n",
        "print(history.history.keys())\r\n",
        "\r\n",
        "plotmodelhistory(history)"
      ],
      "execution_count": 9,
      "outputs": [
        {
          "output_type": "stream",
          "text": [
            "dict_keys(['loss', 'accuracy', 'val_loss', 'val_accuracy'])\n"
          ],
          "name": "stdout"
        },
        {
          "output_type": "display_data",
          "data": {
            "image/png": "[encoded data removed]",
            "text/plain": [
              "<Figure size 1080x360 with 2 Axes>"
            ]
          },
          "metadata": {
            "tags": [],
            "needs_background": "light"
          }
        }
      ]
    },
    {
      "cell_type": "markdown",
      "metadata": {
        "id": "ueQ__Iz0RLw8"
      },
      "source": [
        "После 60 эпох точность нашей модели практически не повышается."
      ]
    },
    {
      "cell_type": "markdown",
      "metadata": {
        "id": "0XaGjPaZRkWc"
      },
      "source": [
        "Оценка обученной модели и прогноз"
      ]
    },
    {
      "cell_type": "code",
      "metadata": {
        "colab": {
          "base_uri": "https://localhost:8080/"
        },
        "id": "TZ8dhzTHRlSx",
        "outputId": "64525d5a-0a88-4402-fdf6-b155e93dfbc5"
      },
      "source": [
        "scores = model.evaluate(x_test, y_test, verbose=1)\r\n",
        "print('Test loss:', scores[0])\r\n",
        "print('Test accuracy:', scores[1])\r\n",
        "\r\n",
        "# make prediction.\r\n",
        "pred = model.predict(x_test)"
      ],
      "execution_count": 10,
      "outputs": [
        {
          "output_type": "stream",
          "text": [
            "313/313 [==============================] - 11s 36ms/step - loss: 0.7239 - accuracy: 0.7512\n",
            "Test loss: 0.7239095568656921\n",
            "Test accuracy: 0.7512000203132629\n"
          ],
          "name": "stdout"
        }
      ]
    },
    {
      "cell_type": "markdown",
      "metadata": {
        "id": "0BVvv9GwSCBn"
      },
      "source": [
        "Строим матрицу ошибок"
      ]
    },
    {
      "cell_type": "code",
      "metadata": {
        "id": "fU5B1YQISy6F"
      },
      "source": [
        "def heatmap(data, row_labels, col_labels, ax=None, cbar_kw={}, cbarlabel=\"\", **kwargs):\r\n",
        "    \"\"\"\r\n",
        "    Create a heatmap from a numpy array and two lists of labels.\r\n",
        "    \"\"\"\r\n",
        "    if not ax:\r\n",
        "        ax = plt.gca()\r\n",
        "\r\n",
        "    # Plot the heatmap\r\n",
        "    im = ax.imshow(data, **kwargs)\r\n",
        "\r\n",
        "    # Create colorbar\r\n",
        "    cbar = ax.figure.colorbar(im, ax=ax, **cbar_kw)\r\n",
        "    cbar.ax.set_ylabel(cbarlabel, rotation=-90, va=\"bottom\")\r\n",
        "\r\n",
        "    # Let the horizontal axes labeling appear on top.\r\n",
        "    ax.tick_params(top=True, bottom=False,\r\n",
        "                   labeltop=True, labelbottom=False)\r\n",
        "    # We want to show all ticks...\r\n",
        "    ax.set_xticks(np.arange(data.shape[1]))\r\n",
        "    ax.set_yticks(np.arange(data.shape[0]))\r\n",
        "    # ... and label them with the respective list entries.\r\n",
        "    ax.set_xticklabels(col_labels)\r\n",
        "    ax.set_yticklabels(row_labels)\r\n",
        "    \r\n",
        "    ax.set_xlabel('Predicted Label') \r\n",
        "    ax.set_ylabel('True Label')\r\n",
        "    \r\n",
        "    return im, cbar\r\n",
        "\r\n",
        "def annotate_heatmap(im, data=None, fmt=\"d\", threshold=None):\r\n",
        "    \"\"\"\r\n",
        "    A function to annotate a heatmap.\r\n",
        "    \"\"\"\r\n",
        "    # Change the text's color depending on the data.\r\n",
        "    texts = []\r\n",
        "    for i in range(data.shape[0]):\r\n",
        "        for j in range(data.shape[1]):\r\n",
        "            text = im.axes.text(j, i, format(data[i, j], fmt), horizontalalignment=\"center\",\r\n",
        "                                 color=\"white\" if data[i, j] > thresh else \"black\")\r\n",
        "            texts.append(text)\r\n",
        "\r\n",
        "    return texts"
      ],
      "execution_count": null,
      "outputs": []
    },
    {
      "cell_type": "code",
      "metadata": {
        "id": "0teb-V15S5aH"
      },
      "source": [
        "labels = ['Airplane', 'Automobile', 'Bird', 'Cat', 'Deer', 'Dog', 'Frog', 'Horse', 'Ship', 'Truck']\r\n",
        "\r\n",
        "# Convert predictions classes to one hot vectors \r\n",
        "Y_pred_classes = np.argmax(pred, axis=1) \r\n",
        "# Convert validation observations to one hot vectors\r\n",
        "Y_true = np.argmax(y_test, axis=1)\r\n",
        "# Errors are difference between predicted labels and true labels\r\n",
        "errors = (Y_pred_classes - Y_true != 0)\r\n",
        "\r\n",
        "Y_pred_classes_errors = Y_pred_classes[errors]\r\n",
        "Y_pred_errors = pred[errors]\r\n",
        "Y_true_errors = Y_true[errors]\r\n",
        "X_test_errors = x_test[errors]\r\n",
        "\r\n",
        "cm = confusion_matrix(Y_true, Y_pred_classes) \r\n",
        "thresh = cm.max() / 2.\r\n",
        "\r\n",
        "fig, ax = plt.subplots(figsize=(12,12))\r\n",
        "im, cbar = heatmap(cm, labels, labels, ax=ax,\r\n",
        "                   cmap=plt.cm.Blues, cbarlabel=\"count of predictions\")\r\n",
        "texts = annotate_heatmap(im, data=cm, threshold=thresh)\r\n",
        "\r\n",
        "fig.tight_layout()\r\n",
        "plt.show()"
      ],
      "execution_count": null,
      "outputs": []
    },
    {
      "cell_type": "markdown",
      "metadata": {
        "id": "LAyX3cLJTALZ"
      },
      "source": [
        "Строим метрики качества"
      ]
    },
    {
      "cell_type": "code",
      "metadata": {
        "colab": {
          "base_uri": "https://localhost:8080/"
        },
        "id": "E38uPBQcTCCA",
        "outputId": "61e5c341-82e6-4bf5-dc1e-dc58ee0ed6e2"
      },
      "source": [
        "print(classification_report(Y_true, Y_pred_classes))"
      ],
      "execution_count": 13,
      "outputs": [
        {
          "output_type": "stream",
          "text": [
            "              precision    recall  f1-score   support\n",
            "\n",
            "           0       0.79      0.76      0.78      1000\n",
            "           1       0.93      0.82      0.87      1000\n",
            "           2       0.67      0.58      0.62      1000\n",
            "           3       0.58      0.56      0.57      1000\n",
            "           4       0.64      0.78      0.70      1000\n",
            "           5       0.66      0.65      0.65      1000\n",
            "           6       0.76      0.86      0.81      1000\n",
            "           7       0.82      0.79      0.80      1000\n",
            "           8       0.87      0.85      0.86      1000\n",
            "           9       0.83      0.86      0.84      1000\n",
            "\n",
            "    accuracy                           0.75     10000\n",
            "   macro avg       0.75      0.75      0.75     10000\n",
            "weighted avg       0.75      0.75      0.75     10000\n",
            "\n"
          ],
          "name": "stdout"
        }
      ]
    },
    {
      "cell_type": "markdown",
      "metadata": {
        "id": "vnuzjLdqgqHK"
      },
      "source": [
        "Датасет CIFAR-100 с классами bridge, castle, house, road, skyscrape"
      ]
    },
    {
      "cell_type": "code",
      "metadata": {
        "id": "U71S6eAjg82c"
      },
      "source": [
        "import os\r\n",
        "import cv2\r\n",
        "import numpy as np\r\n",
        "import matplotlib.pyplot as plt\r\n",
        "\r\n",
        "import keras\r\n",
        "import keras.backend as K\r\n",
        "from keras.datasets import cifar100\r\n",
        "from keras.models import Sequential\r\n",
        "from keras.layers import Dense, Dropout, BatchNormalization, Flatten, GlobalMaxPooling2D, GlobalAveragePooling2D\r\n",
        "from keras.optimizers import Adam, SGD\r\n",
        "from keras.callbacks import EarlyStopping, ReduceLROnPlateau\r\n",
        "from keras.preprocessing.image import ImageDataGenerator\r\n",
        "from keras.utils import to_categorical\r\n",
        "\r\n",
        "import albumentations as albu\r\n",
        "from sklearn.model_selection import train_test_split, StratifiedShuffleSplit\r\n",
        "from sklearn.metrics import accuracy_score"
      ],
      "execution_count": 14,
      "outputs": []
    },
    {
      "cell_type": "code",
      "metadata": {
        "id": "2uSacpGihCWn"
      },
      "source": [
        "height = 224\r\n",
        "width = 224\r\n",
        "channels = 3\r\n",
        "input_shape = (height, width, channels)\r\n",
        "n_classes = 100\r\n",
        "\r\n",
        "# parameters for optimizers\r\n",
        "lr = 1e-3\r\n",
        "\r\n",
        "# Parameters for training\r\n",
        "epochs = 25\r\n",
        "batch_size = 8\r\n",
        "\r\n",
        "# parameters for callback functions\r\n",
        "es_patience = 10\r\n",
        "rlrop_patience = 5\r\n",
        "decay_rate = 0.5"
      ],
      "execution_count": 15,
      "outputs": []
    },
    {
      "cell_type": "markdown",
      "metadata": {
        "id": "-B7MTgt4hMu7"
      },
      "source": [
        "Cifar-100 содержит 50 000 данных обучения и 10 000 данных тестирования, каждое из которых представляет собой 32 x 32 x 3 изображения с 1 классом из 100 классов."
      ]
    },
    {
      "cell_type": "code",
      "metadata": {
        "colab": {
          "base_uri": "https://localhost:8080/"
        },
        "id": "A95CfgDEhR9S",
        "outputId": "1cada859-8238-4352-8113-febf77ca6ca9"
      },
      "source": [
        "(X, y), (X_test, y_test) = cifar100.load_data()\r\n",
        "\r\n",
        "print(\"The shape of X_train : \", X.shape)\r\n",
        "print(\"The shape of X_test : \", X_test.shape)\r\n",
        "\r\n",
        "fine_label_list =  ['bridge', 'castle', 'house', 'road', 'skyscraper']"
      ],
      "execution_count": 16,
      "outputs": [
        {
          "output_type": "stream",
          "text": [
            "Downloading data from https://www.cs.toronto.edu/~kriz/cifar-100-python.tar.gz\n",
            "169009152/169001437 [==============================] - 4s 0us/step\n",
            "The shape of X_train :  (50000, 32, 32, 3)\n",
            "The shape of X_test :  (10000, 32, 32, 3)\n",
            "Downloading data from https://www.cs.toronto.edu/~kriz/cifar-100-python.tar.gz\n",
            "169009152/169001437 [==============================] - 4s 0us/step\n",
            "The shape of X_train :  (50000, 32, 32, 3)\n",
            "The shape of X_test :  (10000, 32, 32, 3)\n",
            "Downloading data from https://www.cs.toronto.edu/~kriz/cifar-100-python.tar.gz\n",
            "169009152/169001437 [==============================] - 4s 0us/step\n",
            "The shape of X_train :  (50000, 32, 32, 3)\n",
            "The shape of X_test :  (10000, 32, 32, 3)\n",
            "Downloading data from https://www.cs.toronto.edu/~kriz/cifar-100-python.tar.gz\n",
            "169009152/169001437 [==============================] - 4s 0us/step\n",
            "The shape of X_train :  (50000, 32, 32, 3)\n",
            "The shape of X_test :  (10000, 32, 32, 3)\n"
          ],
          "name": "stdout"
        }
      ]
    }
  ]
}